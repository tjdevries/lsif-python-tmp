{
 "cells": [
  {
   "cell_type": "code",
   "execution_count": 4,
   "id": "8efeb9be",
   "metadata": {},
   "outputs": [],
   "source": [
    "from has_definition import exported_function"
   ]
  },
  {
   "cell_type": "code",
   "execution_count": 6,
   "id": "31f345eb",
   "metadata": {},
   "outputs": [
    {
     "name": "stdout",
     "output_type": "stream",
     "text": [
      "15\n"
     ]
    }
   ],
   "source": [
    "print(exported_function(10))"
   ]
  },
  {
   "cell_type": "code",
   "execution_count": null,
   "id": "22b8d9a4",
   "metadata": {},
   "outputs": [],
   "source": []
  }
 ],
 "metadata": {
  "kernelspec": {
   "display_name": "Python 3",
   "language": "python",
   "name": "python3"
  },
  "language_info": {
   "codemirror_mode": {
    "name": "ipython",
    "version": 3
   },
   "file_extension": ".py",
   "mimetype": "text/x-python",
   "name": "python",
   "nbconvert_exporter": "python",
   "pygments_lexer": "ipython3",
   "version": "3.9.2"
  }
 },
 "nbformat": 4,
 "nbformat_minor": 5
}
